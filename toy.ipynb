{
 "cells": [
  {
   "cell_type": "code",
   "execution_count": 2,
   "id": "79210c9f",
   "metadata": {},
   "outputs": [
    {
     "name": "stdout",
     "output_type": "stream",
     "text": [
      "/bin/bash: /home/tony_hu/anaconda3/envs/dlrecon/lib/libtinfo.so.6: no version information available (required by /bin/bash)\n",
      "/home/tony_hu/anaconda3/envs/dlrecon/bin/python\n"
     ]
    }
   ],
   "source": [
    "%load_ext autoreload\n",
    "%autoreload 2\n",
    "!which python"
   ]
  },
  {
   "cell_type": "code",
   "execution_count": 4,
   "id": "87cb565f",
   "metadata": {},
   "outputs": [],
   "source": [
    "import torch\n",
    "import h5py\n",
    "import numpy as np\n",
    "import os\n",
    "import glob"
   ]
  },
  {
   "cell_type": "code",
   "execution_count": 6,
   "id": "a4c0c361",
   "metadata": {},
   "outputs": [
    {
     "name": "stdout",
     "output_type": "stream",
     "text": [
      "001.h5: kspace shape = (256, 218, 170, 24)\n",
      "002.h5: kspace shape = (256, 218, 170, 24)\n",
      "003.h5: kspace shape = (256, 218, 170, 24)\n",
      "004.h5: kspace shape = (256, 218, 170, 24)\n",
      "005.h5: kspace shape = (256, 218, 170, 24)\n",
      "006.h5: kspace shape = (256, 218, 170, 24)\n",
      "007.h5: kspace shape = (256, 218, 170, 24)\n",
      "008.h5: kspace shape = (256, 218, 170, 24)\n",
      "009.h5: kspace shape = (256, 218, 170, 24)\n",
      "010.h5: kspace shape = (256, 218, 170, 24)\n",
      "011.h5: kspace shape = (256, 218, 170, 24)\n",
      "012.h5: kspace shape = (256, 218, 170, 24)\n",
      "013.h5: kspace shape = (256, 218, 170, 24)\n",
      "014.h5: kspace shape = (256, 218, 170, 24)\n",
      "015.h5: kspace shape = (256, 218, 170, 24)\n",
      "016.h5: kspace shape = (256, 218, 180, 24)\n",
      "017.h5: kspace shape = (256, 218, 180, 24)\n",
      "018.h5: kspace shape = (256, 218, 180, 24)\n",
      "019.h5: kspace shape = (256, 218, 170, 24)\n",
      "020.h5: kspace shape = (256, 218, 180, 24)\n"
     ]
    }
   ],
   "source": [
    "INPUT_DIR = '/home/tony_hu/data/Val'\n",
    "\n",
    "h5_files = sorted(glob.glob(os.path.join(INPUT_DIR, '*.h5')))\n",
    "\n",
    "if not h5_files:\n",
    "    print(\"No .h5 files found in the directory.\")\n",
    "else:\n",
    "    for file_path in h5_files:\n",
    "        with h5py.File(file_path, 'r') as f:\n",
    "            if 'kspace' in f:\n",
    "                kspace = f['kspace']\n",
    "                shape = kspace.shape\n",
    "                print(f\"{os.path.basename(file_path)}: kspace shape = {shape}\")\n",
    "            else:\n",
    "                print(f\"{os.path.basename(file_path)}: 'kspace' key not found\")"
   ]
  },
  {
   "cell_type": "code",
   "execution_count": null,
   "id": "d7dddf9d",
   "metadata": {},
   "outputs": [],
   "source": []
  }
 ],
 "metadata": {
  "kernelspec": {
   "display_name": "dlrecon",
   "language": "python",
   "name": "python3"
  },
  "language_info": {
   "codemirror_mode": {
    "name": "ipython",
    "version": 3
   },
   "file_extension": ".py",
   "mimetype": "text/x-python",
   "name": "python",
   "nbconvert_exporter": "python",
   "pygments_lexer": "ipython3",
   "version": "3.9.21"
  }
 },
 "nbformat": 4,
 "nbformat_minor": 5
}
