{
 "cells": [
  {
   "cell_type": "code",
   "execution_count": 1,
   "id": "d68c0e9c",
   "metadata": {},
   "outputs": [
    {
     "name": "stdout",
     "output_type": "stream",
     "text": [
      "/bin/bash: /home/tony_hu/anaconda3/envs/dlrecon/lib/libtinfo.so.6: no version information available (required by /bin/bash)\n",
      "/home/tony_hu/anaconda3/envs/dlrecon/bin/python\n"
     ]
    }
   ],
   "source": [
    "%load_ext autoreload\n",
    "%autoreload 2\n",
    "!which python"
   ]
  },
  {
   "cell_type": "code",
   "execution_count": null,
   "id": "5670ba71",
   "metadata": {},
   "outputs": [],
   "source": [
    "import torch\n",
    "import h5py\n",
    "import numpy as np\n",
    "import os\n",
    "import glob"
   ]
  }
 ],
 "metadata": {
  "kernelspec": {
   "display_name": "dlrecon",
   "language": "python",
   "name": "python3"
  },
  "language_info": {
   "codemirror_mode": {
    "name": "ipython",
    "version": 3
   },
   "file_extension": ".py",
   "mimetype": "text/x-python",
   "name": "python",
   "nbconvert_exporter": "python",
   "pygments_lexer": "ipython3",
   "version": "3.9.21"
  }
 },
 "nbformat": 4,
 "nbformat_minor": 5
}
